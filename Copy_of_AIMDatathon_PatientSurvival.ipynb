{
  "nbformat": 4,
  "nbformat_minor": 0,
  "metadata": {
    "colab": {
      "name": "Copy of AIMDatathon-PatientSurvival.ipynb",
      "provenance": [],
      "collapsed_sections": [],
      "toc_visible": true,
      "include_colab_link": true
    },
    "kernelspec": {
      "name": "python3",
      "display_name": "Python 3"
    }
  },
  "cells": [
    {
      "cell_type": "markdown",
      "metadata": {
        "id": "view-in-github",
        "colab_type": "text"
      },
      "source": [
        "<a href=\"https://colab.research.google.com/github/mgjehrio/projects/blob/main/Copy_of_AIMDatathon_PatientSurvival.ipynb\" target=\"_parent\"><img src=\"https://colab.research.google.com/assets/colab-badge.svg\" alt=\"Open In Colab\"/></a>"
      ]
    },
    {
      "cell_type": "code",
      "metadata": {
        "id": "M4DscB8CNgin",
        "colab": {
          "base_uri": "https://localhost:8080/"
        },
        "outputId": "e63c33e1-6320-4fce-a498-a2eeee1ade3d"
      },
      "source": [
        "from google.colab import drive\n",
        "drive.mount('/content/drive', force_remount=False)"
      ],
      "execution_count": null,
      "outputs": [
        {
          "output_type": "stream",
          "text": [
            "Drive already mounted at /content/drive; to attempt to forcibly remount, call drive.mount(\"/content/drive\", force_remount=True).\n"
          ],
          "name": "stdout"
        }
      ]
    },
    {
      "cell_type": "markdown",
      "metadata": {
        "id": "iYsB6gMXFRHk"
      },
      "source": [
        "# Data Preprocessing"
      ]
    },
    {
      "cell_type": "markdown",
      "metadata": {
        "id": "ukTNp6I8G4Y0"
      },
      "source": [
        "## Set the appropriate directory."
      ]
    },
    {
      "cell_type": "code",
      "metadata": {
        "colab": {
          "base_uri": "https://localhost:8080/"
        },
        "id": "DdLOuluZyllV",
        "outputId": "7f2ebceb-7270-4b08-ab57-277fde1361b1"
      },
      "source": [
        "%cd /content/drive/My Drive/aimdatathon2020"
      ],
      "execution_count": null,
      "outputs": [
        {
          "output_type": "stream",
          "text": [
            "/content/drive/My Drive/aimdatathon2020\n"
          ],
          "name": "stdout"
        }
      ]
    },
    {
      "cell_type": "markdown",
      "metadata": {
        "id": "uRtSv8FmtV6T"
      },
      "source": [
        "##There was a train and test dataset, along with 17 accompanying datasets. Here we merge them."
      ]
    },
    {
      "cell_type": "code",
      "metadata": {
        "colab": {
          "base_uri": "https://localhost:8080/"
        },
        "id": "A2BsA7_zzjTc",
        "outputId": "e69cf825-b0db-4a4a-9208-a63df2394069"
      },
      "source": [
        "import pandas as pd\n",
        "import os\n",
        "\n",
        "train = pd.read_csv('Tumor Information_train.csv')\n",
        "test = pd.read_csv('Tumor Information_test.csv')\n",
        "\n",
        "train.columns = map(str.lower, train.columns)\n",
        "test.columns = map(str.lower, test.columns)\n",
        "\n",
        "file_list = os.listdir()\n",
        "file_list.remove('Tumor Information_train.csv')\n",
        "file_list.remove('Tumor Information_test.csv')\n",
        "file_list.remove('DBBR Questionnaire Data Dictionary.csv')\n",
        "\n",
        "print(file_list)\n",
        "\n",
        "for data in file_list:\n",
        "  train = train.merge(pd.read_csv(data).rename(columns=str.lower), on='qbarcode', how='left')\n",
        "  test = test.merge(pd.read_csv(data).rename(columns=str.lower), on='qbarcode', how='left')\n",
        "\n",
        "all_data = pd.concat([train, test])"
      ],
      "execution_count": null,
      "outputs": [
        {
          "output_type": "stream",
          "text": [
            "['Beverages.csv', 'Current Lifestyle.csv', 'Family History.csv', 'Exercise.csv', 'Food Habits.csv', 'Background and Helpful Info.csv', 'MedicationUseHistory.csv', 'Lifetime use of Supplements.csv', 'Nutrient Calc.csv', 'Herbals.csv', 'Foods.csv', 'Smoking History.csv', 'MedicalHistory.csv', 'Multivitamins.csv', 'Vitamins Minerals.csv', 'WomensHealth.csv']\n"
          ],
          "name": "stdout"
        }
      ]
    },
    {
      "cell_type": "markdown",
      "metadata": {
        "id": "mHUTFZxKOdj7"
      },
      "source": [
        "##Exploratory Data Analysis"
      ]
    },
    {
      "cell_type": "markdown",
      "metadata": {
        "id": "ny5knA4XtpI9"
      },
      "source": [
        "##We process the data by encoding categorical columns and filling NaN values with the mode of the feature. Notice how we do not normalize the data or check for multicollinearity. This will make sense very shortly. We also notice that there is mild class imbalance between the two categories.  "
      ]
    },
    {
      "cell_type": "code",
      "metadata": {
        "colab": {
          "base_uri": "https://localhost:8080/"
        },
        "id": "7a8uA1rRxyDz",
        "outputId": "dcb12917-c7ad-4e8d-cf57-9d954f7bc07b"
      },
      "source": [
        "from sklearn import preprocessing\n",
        "\n",
        "cols = [col for col in all_data.columns if col not in ['patientstatus', 'qbarcode']]\n",
        "\n",
        "types = all_data.dtypes\n",
        "cat_columns = [t[0] for t in types.iteritems() if ((t[1] not in ['int64', 'float64']))]\n",
        "\n",
        "lbl = preprocessing.LabelEncoder()\n",
        "for col in cat_columns:\n",
        "    all_data[col] = lbl.fit_transform(all_data[col].astype(str))\n",
        "\n",
        "all_data = all_data.fillna(all_data.mode().iloc[0])\n",
        "\n",
        "\n",
        "train_processed_data = all_data.iloc[:len(train)]\n",
        "test_processed_data = all_data.iloc[len(train):]\n",
        "\n",
        "print('Below are the shapes of our of our train and test sets:')\n",
        "print('Train:', train_processed_data.shape)\n",
        "print('Test:', test_processed_data.shape)\n",
        "\n",
        "print('The frequencies of each class:')\n",
        "print(train['patientstatus'].value_counts())"
      ],
      "execution_count": null,
      "outputs": [
        {
          "output_type": "stream",
          "text": [
            "Below are the shapes of our of our train and test sets:\n",
            "Train: (1600, 1214)\n",
            "Test: (400, 1214)\n",
            "The frequencies of each class:\n",
            "1    996\n",
            "0    604\n",
            "Name: patientstatus, dtype: int64\n"
          ],
          "name": "stdout"
        }
      ]
    },
    {
      "cell_type": "markdown",
      "metadata": {
        "id": "UoicoxjzHpvq"
      },
      "source": [
        "# Model choice and train-validation split"
      ]
    },
    {
      "cell_type": "markdown",
      "metadata": {
        "id": "hC-nsloNt5Vt"
      },
      "source": [
        "##Import the necessary machine learning models. Since we have a classification task with structured data, XGBoost is a safe bet with proven performance in industry."
      ]
    },
    {
      "cell_type": "markdown",
      "metadata": {
        "id": "-CgLvRrqICQX"
      },
      "source": [
        "##Decision trees do not require normalization of inputs, and since XGBoost is an ensemble of decision trees, this principle also applies here. XGBoost naturally deals with multicollinearity as well."
      ]
    },
    {
      "cell_type": "markdown",
      "metadata": {
        "id": "whLz6eCNIF7Z"
      },
      "source": [
        "##Our test set does not have labels, so we have use a part of the training set as a validation set to assess our model's performance."
      ]
    },
    {
      "cell_type": "code",
      "metadata": {
        "id": "Ko0nlAMrpohu"
      },
      "source": [
        "import numpy as np\n",
        "import xgboost as xgb\n",
        "from sklearn.model_selection import train_test_split\n",
        "from sklearn.metrics import roc_auc_score, roc_curve\n",
        "from sklearn.metrics import classification_report\n",
        "\n",
        "cols = [col for col in train_processed_data.columns if col not in ['patientstatus', 'qbarcode']]\n",
        "\n",
        "train = train_processed_data[cols].values\n",
        "labels = train_processed_data['patientstatus'].values\n",
        "\n",
        "x_train, x_val, y_train, y_val = train_test_split(train, labels, test_size=0.2, random_state=42)"
      ],
      "execution_count": null,
      "outputs": []
    },
    {
      "cell_type": "markdown",
      "metadata": {
        "id": "YaoRdbvOIKfT"
      },
      "source": [
        "# Model training, tuning, and validation"
      ]
    },
    {
      "cell_type": "markdown",
      "metadata": {
        "id": "orDDdRsuunWO"
      },
      "source": [
        "##Set the model parameters, train the model, and evaluate it. The hyperparameters here were manually tuned and are optimal."
      ]
    },
    {
      "cell_type": "markdown",
      "metadata": {
        "id": "KHuIVQ80IV7I"
      },
      "source": [
        "##We use accuracy and area under reciever operator characteristic curve values to get baseline numeric performance measures, and we then view the classification report to check for Type 1 and Type 2 error rates. "
      ]
    },
    {
      "cell_type": "code",
      "metadata": {
        "id": "vx13Ve1Tpoj8",
        "colab": {
          "base_uri": "https://localhost:8080/"
        },
        "outputId": "2bd2c66a-5566-4abc-e3ee-d32a0780490c"
      },
      "source": [
        "bst = xgb.XGBClassifier(max_depth=2, n_estimators=100, learning_rate=0.1, objective='reg:logistic', gamma=0, colsample_bytree=0.3)\n",
        "bst.fit(x_train, y_train)\n",
        "y_hat = bst.predict(x_val)\n",
        "print('Accurary Score:', bst.score(x_val, y_val))\n",
        "print('Area under ROC:', roc_auc_score(y_val, y_hat))\n",
        "print(classification_report(y_val, y_hat))"
      ],
      "execution_count": null,
      "outputs": [
        {
          "output_type": "stream",
          "text": [
            "Accurary Score: 0.775\n",
            "Area under ROC: 0.7331800374723216\n",
            "              precision    recall  f1-score   support\n",
            "\n",
            "         0.0       0.73      0.59      0.65       114\n",
            "         1.0       0.79      0.88      0.83       206\n",
            "\n",
            "    accuracy                           0.78       320\n",
            "   macro avg       0.76      0.73      0.74       320\n",
            "weighted avg       0.77      0.78      0.77       320\n",
            "\n"
          ],
          "name": "stdout"
        }
      ]
    },
    {
      "cell_type": "markdown",
      "metadata": {
        "id": "S3l21OIi1bfD"
      },
      "source": [
        "##Plot the ROC curve."
      ]
    },
    {
      "cell_type": "code",
      "metadata": {
        "colab": {
          "base_uri": "https://localhost:8080/",
          "height": 621
        },
        "id": "RiQslY5yKm03",
        "outputId": "fb8af315-e72d-4731-d852-90cdd1c20b66"
      },
      "source": [
        "false_positive_rate, true_positive_rate, threshold = roc_curve(y_val, y_hat)\n",
        "\n",
        "plt.subplots(1, figsize=(10,10))\n",
        "plt.title('Receiver Operating Characteristic - Gradient Boosting')\n",
        "plt.plot(false_positive_rate, true_positive_rate)\n",
        "plt.plot([0, 1], ls=\"--\")\n",
        "plt.plot([0, 0], [1, 0] , c=\".7\"), plt.plot([1, 1] , c=\".7\")\n",
        "plt.ylabel('True Positive Rate')\n",
        "plt.xlabel('False Positive Rate')\n",
        "plt.show()"
      ],
      "execution_count": null,
      "outputs": [
        {
          "output_type": "display_data",
          "data": {
            "image/png": "[encoded data removed]",
            "text/plain": [
              "<Figure size 720x720 with 1 Axes>"
            ]
          },
          "metadata": {
            "tags": [],
            "needs_background": "light"
          }
        }
      ]
    },
    {
      "cell_type": "markdown",
      "metadata": {
        "id": "nYOlqLbBIxvI"
      },
      "source": [
        "# Model evaluation on test data"
      ]
    },
    {
      "cell_type": "markdown",
      "metadata": {
        "id": "VWo3qFc31adE"
      },
      "source": [
        "##Now we can make predictions on our unseen test data and view them patient-by-patient. Only the first 20 are shown."
      ]
    },
    {
      "cell_type": "code",
      "metadata": {
        "id": "1AzEmUgTporQ",
        "colab": {
          "base_uri": "https://localhost:8080/"
        },
        "outputId": "a58b5255-f5e4-4290-eaba-aa217b7e8c42"
      },
      "source": [
        "test= test_processed_data[cols].values\n",
        "predictions = bst.predict(test)\n",
        "\n",
        "out_df = pd.DataFrame(\n",
        "        {\"qbarcode\": test_processed_data.qbarcode.values,\n",
        "         \"PatientStatus\": predictions\n",
        "        }\n",
        "    )\n",
        "\n",
        "print(out_df.head(20))"
      ],
      "execution_count": null,
      "outputs": [
        {
          "output_type": "stream",
          "text": [
            "    qbarcode  PatientStatus\n",
            "0        856            1.0\n",
            "1       1759            1.0\n",
            "2       2275            1.0\n",
            "3       1407            1.0\n",
            "4       1996            0.0\n",
            "5      10961            0.0\n",
            "6        264            1.0\n",
            "7      16155            0.0\n",
            "8       5183            0.0\n",
            "9       3052            1.0\n",
            "10     12893            1.0\n",
            "11      2873            1.0\n",
            "12      5178            1.0\n",
            "13      5835            1.0\n",
            "14      4330            1.0\n",
            "15      3707            1.0\n",
            "16     13348            0.0\n",
            "17     15620            1.0\n",
            "18       360            1.0\n",
            "19      4578            1.0\n"
          ],
          "name": "stdout"
        }
      ]
    },
    {
      "cell_type": "markdown",
      "metadata": {
        "id": "-QE2sPAxJJyF"
      },
      "source": [
        "##Create a submission file"
      ]
    },
    {
      "cell_type": "code",
      "metadata": {
        "id": "1zKotO4LJH_i"
      },
      "source": [
        "out_df.to_csv('submission_aim.csv', index=False)"
      ],
      "execution_count": null,
      "outputs": []
    }
  ]
}